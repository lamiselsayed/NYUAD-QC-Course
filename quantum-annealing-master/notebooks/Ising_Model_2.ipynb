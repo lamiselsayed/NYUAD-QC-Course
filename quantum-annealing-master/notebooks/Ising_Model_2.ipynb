{
 "cells": [
  {
   "cell_type": "markdown",
   "metadata": {},
   "source": [
    "<table width = \"100%\">\n",
    "  <tr style=\"background-color:white;\">\n",
    "    <!-- QWorld Logo -->\n",
    "    <td style=\"text-align:left;width:200px;\"> \n",
    "        <img src=\"../images/QWorld.png\"> </td>\n",
    "    <td style=\"text-align:right;vertical-align:bottom;font-size:16px;\"> \n",
    "        Prepared by <a href=\"https://gitlab.com/pjr1363\" target=\"_blank\"> Paul Joseph Robin </a> and Özlem Salehi</td>\n",
    "    </tr> \n",
    " </table>\n",
    " \n",
    "<hr>"
   ]
  },
  {
   "cell_type": "markdown",
   "metadata": {},
   "source": [
    "# Ising to QUBO conversion \n",
    "\n",
    "The Ising problems are expressed through spin variables $\\{-1, 1\\}$, while QUBO formulations are expressed through binary variables $\\{0, 1\\}$. \n",
    "\n",
    "The two formulations can be converted into each other by the following transformation:\n",
    "\n",
    "$$ x_j \\mapsto \\frac{1 + s_j }{2} $$\n",
    "where $x_j$ is the QUBO variable and $s_j$ is the Ising variable. \n",
    "\n",
    "Substituting the value of the variable will result in conversion from one model to the other."
   ]
  },
  {
   "cell_type": "markdown",
   "metadata": {},
   "source": [
    "### Task 1\n",
    "Convert the following QUBO formulation into Ising formulation:\n",
    "\n",
    "$$f (x_1, x_2) = 5x_1 + 7x_1 x_2 - 3x_2.$$\n",
    "\n",
    "<a href=\"Ising_Model_2_Solutions.ipynb#Task1\">click here for solution</a>"
   ]
  },
  {
   "cell_type": "markdown",
   "metadata": {},
   "source": [
    "We replace each occurence of $x_1$ with $\\frac{1+s_1}{2}$ and $x_2$ with $\\frac{1+s_2}{2}$. \n",
    "\n",
    "We get \n",
    "\n",
    "\\begin{align*}\n",
    "5\\frac{(1+s_1)}{2} + 7\\frac{(1+s_1)}{2}\\frac{(1+s_2)}{2} - 3 \\frac{(1+s_2)}{2} \n",
    "&= \\frac{(5+5s_1)}{2} + \\frac{(7+7s_1+7s_2+7s_1s_2)}{4} +  \\frac{(-3-3s_2)}{2} \\\\\n",
    "&= \\frac{17}{4}s_1 + \\frac{1}{4}s_2 + \\frac{7}{4}s_1s_2 + \\frac{11}{4}\n",
    "\\end{align*}\n"
   ]
  },
  {
   "cell_type": "markdown",
   "metadata": {},
   "source": [
    "### Task 2\n",
    "Convert the following Ising model into QUBO formulation:\n",
    "$$ s_1s_2 - s_1 + 3s_2.$$\n"
   ]
  },
  {
   "cell_type": "markdown",
   "metadata": {},
   "source": [
    "##### Solution: \n",
    "\n",
    "\\begin{align*}\n",
    "(2x_1-1)(2x_2-1) - (2x_1-1) + 3 (2x_2-1) &= 4x_1x_2 - 2x_1 - 2x_2 + 1 - 2x_1 +1 + 6x_2 - 3 \\\\\n",
    "&= 4x_1x_2 - 4x_2 + 4x_2 -1.\n",
    "\\end{align*}"
   ]
  },
  {
   "cell_type": "markdown",
   "metadata": {},
   "source": [
    "<a href=\"Ising_Model_2_Solutions.ipynb#Task2\">click here for solution</a>"
   ]
  },
  {
   "cell_type": "markdown",
   "metadata": {},
   "source": [
    "### Task 3\n",
    "\n",
    "Using the QUBO formulation you obtained in Task 2, calculate the energy for different spin and binary variable assignments and compare the results.\n",
    "\n",
    "Write two functions:\n",
    "- A function that takes as input values for $x_1$ and $x_2$ and returns the value of the QUBO \n",
    "- A function that takes as input values for $s_1$ and $s_2$ and returns the energy of the Ising model."
   ]
  },
  {
   "cell_type": "code",
   "execution_count": 4,
   "metadata": {},
   "outputs": [],
   "source": [
    "def calc_ising_energy(s_1,s_2):\n",
    "    #your code here\n",
    "    return s_1*s_2 - s_1 + 3*s_2"
   ]
  },
  {
   "cell_type": "code",
   "execution_count": 5,
   "metadata": {},
   "outputs": [],
   "source": [
    "def calc_qubo_value(x_1,x_2):\n",
    "    #your code here\n",
    "    return -4*x_1*x_2 - 8*x_2 + 3"
   ]
  },
  {
   "cell_type": "code",
   "execution_count": 6,
   "metadata": {},
   "outputs": [
    {
     "name": "stdout",
     "output_type": "stream",
     "text": [
      "Energy for spin configuration [-1, 1] :  3\n",
      "Energy for spin configuration [1, -1] :  -5\n",
      "Ising results:  [1, -1] -5\n",
      "Energy for spin configuration [0, 1] :  -5\n",
      "Energy for spin configuration [1, 0] :  3\n",
      "QUBO results:  [0, 1] -5\n"
     ]
    }
   ],
   "source": [
    "ising_conf = [[-1,1], [1,-1]]\n",
    "qubo_conf = [[0,1], [1,0]]\n",
    "\n",
    "#Your code here\n",
    "lowest_e = 1000\n",
    "ground_state = []\n",
    "for c in ising_conf:\n",
    "    e = calc_ising_energy(c[0],c[1])\n",
    "    print(\"Energy for spin configuration\",c,\": \", e)\n",
    "    if e < lowest_e:\n",
    "        lowest_e = e\n",
    "        ground_state = c\n",
    "print(\"Ising results: \", ground_state, lowest_e)\n",
    "\n",
    "lowest_e = 1000\n",
    "ground_state = []\n",
    "for c in qubo_conf:\n",
    "    e = calc_qubo_value(c[0],c[1])\n",
    "    print(\"Energy for spin configuration\",c,\": \", e)\n",
    "    if e < lowest_e:\n",
    "        lowest_e = e\n",
    "        ground_state = c\n",
    "print(\"QUBO results: \", ground_state, lowest_e)"
   ]
  },
  {
   "cell_type": "markdown",
   "metadata": {},
   "source": [
    "<a href=\"Ising_Model_2_Solutions.ipynb#Task3\">click here for solution</a>"
   ]
  },
  {
   "cell_type": "markdown",
   "metadata": {},
   "source": [
    "---\n",
    "\n",
    "## Max-Cut revisited\n",
    "\n",
    "\n",
    "Recall that we have given both a QUBO formulation and an Ising model for the Max-Cut problem. \n",
    "\n",
    "The QUBO formulation was defined as \n",
    "\n",
    "$$\\min \\sum_{(i,j) \\in E} -x_i-x_j+2x_ix_j$$\n",
    "\n",
    "while the Ising model was defined as\n",
    "\n",
    "$$ \\min  \\frac{1}{2} \\sum_{(i, j) \\in E} (s_is_j-1).$$\n",
    "\n",
    "In the next Task we ask you to perform a conversion from the QUBO to Ising model and compare it with the Ising model we have formulated."
   ]
  },
  {
   "cell_type": "markdown",
   "metadata": {},
   "source": [
    "### Task 4\n",
    "\n",
    "Convert the QUBO formulation for the Max-Cut problem into Ising formulation through variable change.\n",
    "\n",
    "Compare your result with the Ising Model we have defined.\n",
    "\n",
    "<a href=\"Ising_Model_2_Solutions.ipynb#Task4\">click here for the solution</a>"
   ]
  },
  {
   "cell_type": "markdown",
   "metadata": {},
   "source": [
    "Starting with $$\\min \\sum_{(i,j) \\in E} -x_i-x_j+2x_ix_j$$\n",
    "we replace each occurence of $x_i$ with $\\frac{1-s_i}{2}$.\n",
    "\n",
    "\\begin{align*}\n",
    "\\sum_{(i,j) \\in E} -\\frac{1-s_i}{2} - \\frac{1-s_j}{2} + 2 \\frac{1-s_i}{2} \\frac{1-s_j}{2}  &= \n",
    "\\sum_{(i,j) \\in E} -\\frac{1-s_i}{2} - \\frac{1-s_j}{2} +  \\frac{(1-s_i)(1-s_j)}{2} \\\\  &=\n",
    "\\sum_{(i,j) \\in E} \\frac{-1+s_i}{2} + \\frac{-1+s_j}{2} +  \\frac{(1+s_is_j-s_i-s_j)}{2} \\\\&=\n",
    "\\frac{1}{2}\\sum_{(i,j) \\in E}  s_is_j-1\n",
    "\\end{align*}\n"
   ]
  }
 ],
 "metadata": {
  "kernelspec": {
   "display_name": "Python 3",
   "language": "python",
   "name": "python3"
  },
  "language_info": {
   "codemirror_mode": {
    "name": "ipython",
    "version": 3
   },
   "file_extension": ".py",
   "mimetype": "text/x-python",
   "name": "python",
   "nbconvert_exporter": "python",
   "pygments_lexer": "ipython3",
   "version": "3.11.9"
  }
 },
 "nbformat": 4,
 "nbformat_minor": 4
}
