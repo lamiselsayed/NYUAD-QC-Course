{
 "cells": [
  {
   "cell_type": "markdown",
   "metadata": {},
   "source": [
    "<table> <tr>\n",
    "        <td  style=\"background-color:#ffffff;\">\n",
    "            <a href=\"https://qworld.net\" target=\"_blank\"><img src=\"../images/qworld.jpg\" width=\"25%\" align=\"left\"> </a></td>\n",
    "        <td style=\"background-color:#ffffff;vertical-align:bottom;text-align:right;\">\n",
    "            prepared by Berat Yenilen, Utku Birkan, Arda Çınar, Cenk Tüysüz and Özlem Salehi (<a href=\"https://qworld.net/qturkey/\" target=\"_blank\">QTurkey</a>)\n",
    "        </td>        \n",
    "</tr></table>"
   ]
  },
  {
   "cell_type": "markdown",
   "metadata": {},
   "source": [
    "<!-- <table width=\"100%\"><tr><td style=\"color:#bbbbbb;background-color:#ffffff;font-size:11px;font-style:italic;text-align:right;\">This cell contains some macros. If there is a problem with displaying mathematical formulas, please run this cell to load these macros. </td></tr></table> -->\n",
    "$ \\renewcommand{\\bra}[1]{\\langle #1|} $\n",
    "$ \\renewcommand{\\ket}[1]{|#1\\rangle} $\n",
    "$ \\renewcommand{\\braket}[2]{\\langle #1|#2\\rangle} $\n",
    "$ \\renewcommand{\\dot}[2]{ #1 \\cdot #2} $\n",
    "$ \\renewcommand{\\biginner}[2]{\\left\\langle #1,#2\\right\\rangle} $\n",
    "$ \\renewcommand{\\mymatrix}[2]{\\left( \\begin{array}{#1} #2\\end{array} \\right)} $\n",
    "$ \\renewcommand{\\myvector}[1]{\\mymatrix{c}{#1}} $\n",
    "$ \\renewcommand{\\myrvector}[1]{\\mymatrix{r}{#1}} $\n",
    "$ \\renewcommand{\\mypar}[1]{\\left( #1 \\right)} $\n",
    "$ \\renewcommand{\\mybigpar}[1]{ \\Big( #1 \\Big)} $\n",
    "$ \\renewcommand{\\sqrttwo}{\\frac{1}{\\sqrt{2}}} $\n",
    "$ \\renewcommand{\\dsqrttwo}{\\dfrac{1}{\\sqrt{2}}} $\n",
    "$ \\renewcommand{\\onehalf}{\\frac{1}{2}} $\n",
    "$ \\renewcommand{\\donehalf}{\\dfrac{1}{2}} $\n",
    "$ \\renewcommand{\\hadamard}{ \\mymatrix{rr}{ \\sqrttwo & \\sqrttwo \\\\ \\sqrttwo & -\\sqrttwo }} $\n",
    "$ \\renewcommand{\\vzero}{\\myvector{1\\\\0}} $\n",
    "$ \\renewcommand{\\vone}{\\myvector{0\\\\1}} $\n",
    "$ \\renewcommand{\\stateplus}{\\myvector{ \\sqrttwo \\\\  \\sqrttwo } } $\n",
    "$ \\renewcommand{\\stateminus}{ \\myrvector{ \\sqrttwo \\\\ -\\sqrttwo } } $\n",
    "$ \\renewcommand{\\myarray}[2]{ \\begin{array}{#1}#2\\end{array}} $\n",
    "$ \\renewcommand{\\X}{ \\mymatrix{cc}{0 & 1 \\\\ 1 & 0}  } $\n",
    "$ \\renewcommand{\\Z}{ \\mymatrix{rr}{1 & 0 \\\\ 0 & -1}  } $\n",
    "$ \\renewcommand{\\Htwo}{ \\mymatrix{rrrr}{ \\frac{1}{2} & \\frac{1}{2} & \\frac{1}{2} & \\frac{1}{2} \\\\ \\frac{1}{2} & -\\frac{1}{2} & \\frac{1}{2} & -\\frac{1}{2} \\\\ \\frac{1}{2} & \\frac{1}{2} & -\\frac{1}{2} & -\\frac{1}{2} \\\\ \\frac{1}{2} & -\\frac{1}{2} & -\\frac{1}{2} & \\frac{1}{2} } } $\n",
    "$ \\renewcommand{\\CNOT}{ \\mymatrix{cccc}{1 & 0 & 0 & 0 \\\\ 0 & 1 & 0 & 0 \\\\ 0 & 0 & 0 & 1 \\\\ 0 & 0 & 1 & 0} } $\n",
    "$ \\renewcommand{\\norm}[1]{ \\left\\lVert #1 \\right\\rVert } $\n",
    "$ \\renewcommand{\\pstate}[1]{ \\lceil #1 \\rfloor } $"
   ]
  },
  {
   "cell_type": "markdown",
   "metadata": {},
   "source": [
    "<h1> Bernstein-Vazirani Algorithm </h1>"
   ]
  },
  {
   "cell_type": "markdown",
   "metadata": {},
   "source": [
    "Let $x \\cdot s$ represent the inner product of the bit strings modulo 2. \n",
    "\n",
    "For instance if $x = 1000$ and $s = 1010$, then $x\\cdot s = 1.1 + 0.0 + 0.1 + 0.0 = 1 \\pmod 2 = 1$"
   ]
  },
  {
   "cell_type": "markdown",
   "metadata": {},
   "source": [
    "## Problem\n",
    "\n",
    "Given an oracle function $f:\\{0,1\\}^n \\rightarrow \\{0,1\\}$, which is defined as $ f(\\mathbf{x}) = x \\cdot s $, find the secret string (sequence of bits) $s$.\n",
    "\n",
    "\n",
    "This might come across as a bit of an artificially created problem, because it is. It was specifically designed to be solved using a quantum computer in order to show there can be advantages in using quantum algorithms over probabilistic algorithms."
   ]
  },
  {
   "cell_type": "markdown",
   "metadata": {},
   "source": [
    "Let's start by giving an example of such an $f$.\n",
    "\n",
    "\\begin{align*}\n",
    "\tf(00)&=0\\\\\n",
    "\tf(01)&=1\\\\\n",
    "\tf(10)&=0\\\\\n",
    "\tf(11)&=1\\\\\n",
    "\t\\end{align*}\n",
    "    \n",
    "In this example, $s$ is $01$, as $f(00)=00\\cdot 01=0$, $f(01)=01\\cdot 01 = 1$, $f(10)=10\\cdot01=0$ and $f(11)=11\\cdot01=1$.\n",
    "    \n",
    "  "
   ]
  },
  {
   "cell_type": "markdown",
   "metadata": {},
   "source": [
    "Note that now the unitary operator $U_f$ takes the following form: $ U_f: \\ket{x}\\ket{y} \\mapsto \\ket{x}\\ket{y \\oplus ( x \\cdot s)} $. \n",
    "\n"
   ]
  },
  {
   "cell_type": "markdown",
   "metadata": {},
   "source": [
    "### Task 1\n",
    "\n",
    "- Using how many queries can you solve the problem clasically? How many queries if you use a probabilistic algorithm?\n",
    "- How many queries do you think we need to make if we are to solve the problem with a quantum computer? \n",
    "\n",
    "Solution:\n",
    "To solve this problem classically/using a probabilistic algorithm, n oracle calls must be made. \n",
    "\n",
    "(from the solution notebook)\n",
    "\n",
    "Let's illustrate the solution over an example.\n",
    "\n",
    "Let $n$ = 4 and let's make the following queries to function $f$.\n",
    "\n",
    "\\begin{align*}\n",
    "f(1000) &= s_1.1 + s_2.0 + s_3.0 + s_4.0 = s_1\\\\\n",
    "f(0100) &= s_1.0 + s_2.1 + s_3.0 + s_4.0 = s_2\\\\\n",
    "f(0010) &= s_1.0 + s_2.0 + s_3.1 + s_4.0 = s_3\\\\\n",
    "f(0001) &= s_1.0 + s_2.0 + s_3.0 + s_4.1 = s_4\\\\\n",
    "\\end{align*}\n",
    "\n",
    "\n",
    "Whereas to solve this problem using a quantum computer, we need 1 oracle call."
   ]
  },
  {
   "cell_type": "markdown",
   "metadata": {},
   "source": [
    "<a href=\"A05_Bernstein_Vazirani_Algorithm_Solutions.ipynb#task1\">click for our solution</a>"
   ]
  },
  {
   "cell_type": "markdown",
   "metadata": {},
   "source": [
    "### Task 2\n",
    "\n",
    "What can we say about the $f:\\{0,1\\}^n \\rightarrow \\{0,1\\}$ function if $s = 0^n$?\n",
    "\n",
    "Solution:\n",
    "If $s=0^n$, then $f(x)=0$ for all $x$."
   ]
  },
  {
   "cell_type": "markdown",
   "metadata": {},
   "source": [
    "<a href=\"A05_Bernstein_Vazirani_Algorithm_Solutions.ipynb#task2\">click for our solution</a>"
   ]
  },
  {
   "cell_type": "markdown",
   "metadata": {},
   "source": [
    "## Algorithm\n",
    "\n",
    "We use exactly the same algorithm as Deutsch-Jozsa.\n",
    "\n",
    " <img src=\"../images/deutschjozsa.png\" width=\"60%\" align=\"center\">\n",
    "\n",
    "We construct a circuit with $n+1$ qubits. \n",
    "\n",
    "- Set the $n+1$'st qubit to state $\\ket{-}$ by applying $X$ and $H$ gates.\n",
    "- Apply $H$ to first $n$ qubits.\n",
    "- Apply $U_f$.\n",
    "- Apply $H$ to first $n$ qubits.\n",
    "- Measure the first $n$ qubits to obtain $s$."
   ]
  },
  {
   "cell_type": "markdown",
   "metadata": {},
   "source": [
    "## Analysis\n",
    "\n",
    " <img src=\"../images/deutschjozsa2.png\" width=\"60%\" align=\"center\">\n",
    " \n",
    "As we have the same circuit as Deustch-Jozsa, the initialization is the same,\n",
    "\n",
    "$$ \\ket{\\psi_2} = \\frac{1}{\\sqrt{2^n}}\\sum_{x \\in \\{0,1\\}^n} \\ket{x} \\otimes \\ket{-}.$$"
   ]
  },
  {
   "cell_type": "markdown",
   "metadata": {},
   "source": [
    "From now on we can ignore the output qubit and focus on our input qubits. After applying $U_f$ we then get the state\n",
    "\n",
    "$$ \\ket{\\psi_{3,0}}= \\frac{1}{\\sqrt{2^n}} \\sum_{x \\in \\{0,1\\}^n} (-1)^{f(x)} \\ket{x}.$$"
   ]
  },
  {
   "cell_type": "markdown",
   "metadata": {},
   "source": [
    "Let's replace $f(x) = x \\cdot s$, and rewrite our state as\n",
    "\n",
    "$$ \\ket{\\psi_{3,0}} = \\frac{1}{\\sqrt{2^n}} \\sum_{x \\in \\{0,1\\}^n} (-1)^{x \\cdot s} \\ket{x}.$$"
   ]
  },
  {
   "cell_type": "markdown",
   "metadata": {},
   "source": [
    "From the previous notebook we know that \n",
    "$$ H^{\\otimes n} \\ket{x} = \\frac{1}{\\sqrt{2^n}} \\sum_{x \\in \\{0,1\\}^n} (-1)^{x \\cdot z} \\ket{z}. $$"
   ]
  },
  {
   "cell_type": "markdown",
   "metadata": {},
   "source": [
    "We also know that the $H^{\\otimes n}$ operator is its own inverse. Thus, we can say that $H^{\\otimes n}\\ket{a} = \\ket{b} \\Longleftrightarrow H^{\\otimes n}\\ket{b} = \\ket{a}$. So in fact, $\\ket{\\psi_3}$ is the state obtained after applying $H^{\\otimes n}$ to $\\ket{s}$.\n",
    "\n",
    "Hence after applying $H^{\\otimes n}$ to the input qubits, we get the final state as \n",
    "\n",
    "$$\\ket{\\psi_{4,0}} = \\ket{s}.$$ \n",
    "\n",
    "We measure the first $n$ qubits and we observe the string $s$ with probability 1.\n",
    "\n",
    "Note that this is also an exact algorithm without any errors like the other algorithms we have seen so far."
   ]
  },
  {
   "cell_type": "markdown",
   "metadata": {},
   "source": [
    "### Task 3\n",
    "\n",
    "Given an oracle function `bv_oracle()` that constructs a 6 qubit oracle circuit ($s$ has length 5) for $f$, construct a circuit that implements the algorithm described above to find out $s$.\n",
    "\n",
    "Note that qubit 5 is the output qubit.\n",
    "\n",
    "Run the following cell to load function `bv_oracle()`."
   ]
  },
  {
   "cell_type": "code",
   "execution_count": 1,
   "metadata": {},
   "outputs": [],
   "source": [
    "# %run ../include/oracle.py\n",
    "%run oracle.py"
   ]
  },
  {
   "cell_type": "code",
   "execution_count": 7,
   "metadata": {},
   "outputs": [
    {
     "data": {
      "image/png": "[encoded data removed]",
      "text/plain": [
       "<Figure size 1207.22x618.722 with 1 Axes>"
      ]
     },
     "execution_count": 7,
     "metadata": {},
     "output_type": "execute_result"
    }
   ],
   "source": [
    "from qiskit import QuantumCircuit, execute, Aer\n",
    "\n",
    "n = 5  \n",
    "\n",
    "# Create quantum circuit\n",
    "bv_circuit = QuantumCircuit(n + 1, n)\n",
    "\n",
    "# Your code here\n",
    "bv_circuit.x(n)\n",
    "bv_circuit.h(range(n + 1))\n",
    "bv_circuit.compose(bv_oracle(), inplace = True)\n",
    "bv_circuit.h(range(n))\n",
    "bv_circuit.measure(range(n), range(n))\n",
    "\n",
    "bv_circuit.draw(output=\"mpl\")"
   ]
  },
  {
   "cell_type": "code",
   "execution_count": 8,
   "metadata": {},
   "outputs": [
    {
     "name": "stdout",
     "output_type": "stream",
     "text": [
      "01011 is observed 10000 times\n"
     ]
    }
   ],
   "source": [
    "job = execute(bv_circuit, Aer.get_backend('qasm_simulator'),shots=10000)\n",
    "counts = job.result().get_counts()\n",
    "# print(counts)\n",
    "for outcome in counts:\n",
    "    reverse_outcome = ''\n",
    "    for i in outcome:\n",
    "        reverse_outcome = i + reverse_outcome\n",
    "    print(reverse_outcome,\"is observed\",counts[outcome],\"times\")"
   ]
  },
  {
   "cell_type": "markdown",
   "metadata": {},
   "source": [
    "<a href=\"A05_Bernstein_Vazirani_Algorithm_Solutions.ipynb#task3\">click for our solution</a>"
   ]
  },
  {
   "cell_type": "markdown",
   "metadata": {},
   "source": [
    "### Task 4\n",
    "\n",
    "Given $\\textbf{s} = 0110$, implement a function that returns an oracle for the function  $ f(\\mathbf{x}) = \\mathbf{x} \\cdot \\mathbf{s} $. Note that $n=4$ and you will need a cirucit with 5 qubits where qubit 4 is the output qubit."
   ]
  },
  {
   "cell_type": "code",
   "execution_count": 9,
   "metadata": {},
   "outputs": [],
   "source": [
    "from qiskit import QuantumCircuit\n",
    "\n",
    "def oracle():\n",
    "    # Your code here\n",
    "    myCircuit = QuantumCircuit(5)\n",
    "    \n",
    "    myCircuit.barrier()\n",
    "    myCircuit.cx(1, 4)\n",
    "    myCircuit.cx(2, 4)\n",
    "    myCircuit.barrier()\n",
    "\n",
    "    return myCircuit"
   ]
  },
  {
   "cell_type": "markdown",
   "metadata": {},
   "source": [
    "<a href=\"A05_Bernstein_Vazirani_Algorithm_Solutions.ipynb#task4\">click for our solution</a>"
   ]
  },
  {
   "cell_type": "markdown",
   "metadata": {},
   "source": [
    "Recall from Task 1 that we need at least $n$ queries both using the deterministic and probabilistic approaches. Now finally, we have an algorithm which provides speedup in the query model also against probabilistic algorithms, although not exponential."
   ]
  }
 ],
 "metadata": {
  "kernelspec": {
   "display_name": "Python 3 (ipykernel)",
   "language": "python",
   "name": "python3"
  },
  "language_info": {
   "codemirror_mode": {
    "name": "ipython",
    "version": 3
   },
   "file_extension": ".py",
   "mimetype": "text/x-python",
   "name": "python",
   "nbconvert_exporter": "python",
   "pygments_lexer": "ipython3",
   "version": "3.11.9"
  }
 },
 "nbformat": 4,
 "nbformat_minor": 4
}
