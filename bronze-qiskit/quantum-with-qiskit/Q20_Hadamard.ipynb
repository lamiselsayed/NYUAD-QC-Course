{
 "cells": [
  {
   "cell_type": "markdown",
   "metadata": {},
   "source": [
    "<a href=\"https://qworld.net\" target=\"_blank\" align=\"left\"><img src=\"../qworld/images/header.jpg\"  align=\"left\"></a>\n",
    "$ \\renewcommand{\\bra}[1]{\\langle #1|} $\n",
    "$ \\renewcommand{\\ket}[1]{|#1\\rangle} $\n",
    "$ \\renewcommand{\\braket}[2]{\\langle #1|#2\\rangle} $\n",
    "$ \\renewcommand{\\dot}[2]{ #1 \\cdot #2} $\n",
    "$ \\renewcommand{\\biginner}[2]{\\left\\langle #1,#2\\right\\rangle} $\n",
    "$ \\renewcommand{\\mymatrix}[2]{\\left( \\begin{array}{#1} #2\\end{array} \\right)} $\n",
    "$ \\renewcommand{\\myvector}[1]{\\mymatrix{c}{#1}} $\n",
    "$ \\renewcommand{\\myrvector}[1]{\\mymatrix{r}{#1}} $\n",
    "$ \\renewcommand{\\mypar}[1]{\\left( #1 \\right)} $\n",
    "$ \\renewcommand{\\mybigpar}[1]{ \\Big( #1 \\Big)} $\n",
    "$ \\renewcommand{\\sqrttwo}{\\frac{1}{\\sqrt{2}}} $\n",
    "$ \\renewcommand{\\dsqrttwo}{\\dfrac{1}{\\sqrt{2}}} $\n",
    "$ \\renewcommand{\\onehalf}{\\frac{1}{2}} $\n",
    "$ \\renewcommand{\\donehalf}{\\dfrac{1}{2}} $\n",
    "$ \\renewcommand{\\hadamard}{ \\mymatrix{rr}{ \\sqrttwo & \\sqrttwo \\\\ \\sqrttwo & -\\sqrttwo }} $\n",
    "$ \\renewcommand{\\vzero}{\\myvector{1\\\\0}} $\n",
    "$ \\renewcommand{\\vone}{\\myvector{0\\\\1}} $\n",
    "$ \\renewcommand{\\stateplus}{\\myvector{ \\sqrttwo \\\\  \\sqrttwo } } $\n",
    "$ \\renewcommand{\\stateminus}{ \\myrvector{ \\sqrttwo \\\\ -\\sqrttwo } } $\n",
    "$ \\renewcommand{\\myarray}[2]{ \\begin{array}{#1}#2\\end{array}} $\n",
    "$ \\renewcommand{\\X}{ \\mymatrix{cc}{0 & 1 \\\\ 1 & 0}  } $\n",
    "$ \\renewcommand{\\I}{ \\mymatrix{rr}{1 & 0 \\\\ 0 & 1}  } $\n",
    "$ \\renewcommand{\\Z}{ \\mymatrix{rr}{1 & 0 \\\\ 0 & -1}  } $\n",
    "$ \\renewcommand{\\Htwo}{ \\mymatrix{rrrr}{ \\frac{1}{2} & \\frac{1}{2} & \\frac{1}{2} & \\frac{1}{2} \\\\ \\frac{1}{2} & -\\frac{1}{2} & \\frac{1}{2} & -\\frac{1}{2} \\\\ \\frac{1}{2} & \\frac{1}{2} & -\\frac{1}{2} & -\\frac{1}{2} \\\\ \\frac{1}{2} & -\\frac{1}{2} & -\\frac{1}{2} & \\frac{1}{2} } } $\n",
    "$ \\renewcommand{\\CNOT}{ \\mymatrix{cccc}{1 & 0 & 0 & 0 \\\\ 0 & 1 & 0 & 0 \\\\ 0 & 0 & 0 & 1 \\\\ 0 & 0 & 1 & 0} } $\n",
    "$ \\renewcommand{\\norm}[1]{ \\left\\lVert #1 \\right\\rVert } $\n",
    "$ \\renewcommand{\\pstate}[1]{ \\lceil  #1  \\rfloor } $\n",
    "$ \\renewcommand{\\greenbit}[1] {\\mathbf{{\\color{green}#1}}} $\n",
    "$ \\renewcommand{\\bluebit}[1] {\\mathbf{{\\color{blue}#1}}} $\n",
    "$ \\renewcommand{\\redbit}[1] {\\mathbf{{\\color{red}#1}}} $\n",
    "$ \\renewcommand{\\brownbit}[1] {\\mathbf{{\\color{brown}#1}}} $\n",
    "$ \\renewcommand{\\blackbit}[1] {\\mathbf{{\\color{black}#1}}} $"
   ]
  },
  {
   "cell_type": "markdown",
   "metadata": {},
   "source": [
    "<font style=\"font-size:28px;\" align=\"left\"><b>Hadamard Operator</b></font>\n",
    "<br>\n",
    "_prepared by Abuzer Yakaryilmaz_\n",
    "<br><br>\n",
    "[<img src=\"../qworld/images/watch_lecture.jpg\" align=\"left\">](https://youtu.be/VKva2R5FVfI)\n",
    "<br><br><br>"
   ]
  },
  {
   "cell_type": "markdown",
   "metadata": {},
   "source": [
    "An example quantum operator for quantum coin-flipping is Hadamard. \n",
    "\n",
    "It is defined as h-gate in Qiskit.\n",
    "\n",
    "We implement all three experiments by using Qiskit. Here we present the first and third experiment. The second experiment will be presented later.\n",
    "\n",
    "_This will be a warm-up step before introducing a quantum bit more formally._  "
   ]
  },
  {
   "cell_type": "markdown",
   "metadata": {},
   "source": [
    "<h3> The first experiment</h3>\n",
    "\n",
    "Our quantum bit (<b>qubit</b>) starts in state 0, which is shown as $ \\ket{0} = \\myvector{1 \\\\ 0} $.\n",
    "\n",
    "<i>$ \\ket{\\cdot} $ is called ket-notation:  Ket-notation is used to represent a column vector in quantum mechanics. \n",
    "For a given column vector $ \\ket{v} $, its conjugate transpose is a row vector represented as $ \\bra{v} $ (bra-notation). \n",
    "</i>"
   ]
  },
  {
   "cell_type": "markdown",
   "metadata": {},
   "source": [
    "<h4> The circuit with a single Hadamard </h4>\n",
    "\n",
    "We design a circuit with one qubit and apply quantum coin-flipping once."
   ]
  },
  {
   "cell_type": "code",
   "execution_count": 4,
   "metadata": {},
   "outputs": [
    {
     "data": {
      "image/png": "[encoded data removed]",
      "text/plain": [
       "<Figure size 317.14x200.667 with 1 Axes>"
      ]
     },
     "execution_count": 4,
     "metadata": {},
     "output_type": "execute_result"
    }
   ],
   "source": [
    "# import all necessary objects and methods for quantum circuits\n",
    "from qiskit import QuantumRegister, ClassicalRegister, QuantumCircuit, execute, Aer\n",
    "\n",
    "# define a quantum register with one qubit\n",
    "q =  QuantumRegister(1,\"qreg\")\n",
    "\n",
    "# define a classical register with one bit\n",
    "# it stores the measurement result of the quantum part\n",
    "c = ClassicalRegister(1,\"creg\")\n",
    "\n",
    "# define our quantum circuit\n",
    "qc = QuantumCircuit(q,c)\n",
    "\n",
    "# apply h-gate (Hadamard: quantum coin-flipping) to the first qubit\n",
    "qc.h(q[0])\n",
    "\n",
    "# measure the first qubit, and store the result in the first classical bit\n",
    "qc.measure(q,c)\n",
    "\n",
    "# draw the circuit by using matplotlib\n",
    "qc.draw(output='mpl') # re-run the cell if the figure is not displayed"
   ]
  },
  {
   "cell_type": "markdown",
   "metadata": {},
   "source": [
    "<img src=\"../photon/images/photon1.jpg\" width=\"40%\">"
   ]
  },
  {
   "cell_type": "code",
   "execution_count": 5,
   "metadata": {},
   "outputs": [
    {
     "name": "stdout",
     "output_type": "stream",
     "text": [
      "{'1': 4961, '0': 5039}\n",
      "\n",
      "State 0 is observed with frequency % 50.39\n",
      "State 1 is observed with frequency % 49.61\n",
      "\n"
     ]
    },
    {
     "data": {
      "image/png": "[encoded data removed]",
      "text/plain": [
       "<Figure size 700x500 with 1 Axes>"
      ]
     },
     "execution_count": 5,
     "metadata": {},
     "output_type": "execute_result"
    }
   ],
   "source": [
    "# execute the circuit 10000 times in the local simulator\n",
    "\n",
    "job = execute(qc,Aer.get_backend('qasm_simulator'),shots=10000)\n",
    "counts = job.result().get_counts(qc)\n",
    "print(counts) # print the outcomes\n",
    "\n",
    "print()\n",
    "n_zeros = counts['0']\n",
    "n_ones = counts['1']\n",
    "print(\"State 0 is observed with frequency %\",100*n_zeros/(n_zeros+n_ones))\n",
    "print(\"State 1 is observed with frequency %\",100*n_ones/(n_zeros+n_ones))\n",
    "\n",
    "# we can show the result by using histogram\n",
    "print()\n",
    "from qiskit.visualization import plot_histogram\n",
    "plot_histogram(counts)"
   ]
  },
  {
   "cell_type": "markdown",
   "metadata": {},
   "source": [
    "The numbers of outcomes '0's and '1's are expected to be close to each other.\n",
    "\n",
    "<img src=\"../photon/images/photon2.jpg\" width=\"40%\" align=\"left\">"
   ]
  },
  {
   "cell_type": "markdown",
   "metadata": {},
   "source": [
    "<b style=\"color:black;\"> As we have observed after this implementation, quantum systems output probabilistically.</b>"
   ]
  },
  {
   "cell_type": "markdown",
   "metadata": {},
   "source": [
    "<h3> The third experiment </h3>\n",
    "\n",
    "_We will examine the second experiment later because it requires intermediate measurement. (We can do intermediate measurements in simulators, but it is not possible in the real machines.)_\n",
    "\n",
    "Now, we implement the third experiment.\n",
    "\n",
    "<img src=\"../photon/images/photon6.jpg\" width=\"60%\" align=\"left\">"
   ]
  },
  {
   "cell_type": "markdown",
   "metadata": {},
   "source": [
    "<h4> The circuit with two Hadamards </h4>\n",
    "\n",
    "We design a circuit with one qubit and apply quantum coin-flipping twice."
   ]
  },
  {
   "cell_type": "code",
   "execution_count": 6,
   "metadata": {},
   "outputs": [
    {
     "data": {
      "image/png": "[encoded data removed]",
      "text/plain": [
       "<Figure size 419.184x200.667 with 1 Axes>"
      ]
     },
     "execution_count": 6,
     "metadata": {},
     "output_type": "execute_result"
    }
   ],
   "source": [
    "# import all necessary objects and methods for quantum circuits\n",
    "from qiskit import QuantumRegister, ClassicalRegister, QuantumCircuit, execute, Aer\n",
    "\n",
    "# define a quantum register with one qubit\n",
    "q2 =  QuantumRegister(1,\"qreg2\")\n",
    "\n",
    "# define a classical register with one bit\n",
    "# it stores the measurement result of the quantum part\n",
    "c2 = ClassicalRegister(1,\"creg2\")\n",
    "\n",
    "# define our quantum circuit\n",
    "qc2 = QuantumCircuit(q2,c2)\n",
    "\n",
    "# apply h-gate (Hadamard: quantum coin-flipping) to the first qubit\n",
    "qc2.h(q2[0])\n",
    "\n",
    "# apply h-gate (Hadamard: quantum coin-flipping) to the first qubit once more\n",
    "qc2.h(q2[0])\n",
    "\n",
    "# measure the first qubit, and store the result in the first classical bit\n",
    "qc2.measure(q2,c2)\n",
    "\n",
    "# draw the circuit by using matplotlib\n",
    "qc2.draw(output='mpl') # re-run the cell if the figure is not displayed"
   ]
  },
  {
   "cell_type": "code",
   "execution_count": 7,
   "metadata": {},
   "outputs": [
    {
     "name": "stdout",
     "output_type": "stream",
     "text": [
      "{'0': 10000}\n"
     ]
    }
   ],
   "source": [
    "# execute the circuit 10000 times in the local simulator\n",
    "\n",
    "job = execute(qc2,Aer.get_backend('qasm_simulator'),shots=10000)\n",
    "counts2 = job.result().get_counts(qc2)\n",
    "print(counts2) # print the outcomes"
   ]
  },
  {
   "cell_type": "markdown",
   "metadata": {},
   "source": [
    "The <u>only outcome</u> must be '0'.\n",
    "\n",
    "<img src=\"../photon/images/photon7.jpg\" width=\"60%\" align=\"left\">"
   ]
  },
  {
   "cell_type": "markdown",
   "metadata": {},
   "source": [
    "<h3> Task 1 </h3>\n",
    "\n",
    "Remember that x-gate flips the value of a qubit.\n",
    "\n",
    "Design a quantum circuit with a single qubit.\n",
    "\n",
    "The qubit is initially set to $ \\ket{0} $.\n",
    "\n",
    "Set the value of qubit to $ \\ket{1} $ by using x-gate.\n",
    "\n",
    "Experiment 1: Apply one Hadamard gate, make measurement, and execute your program 10000 times.\n",
    "\n",
    "Experiment 2: Apply two Hadamard gates, make measurement, and execute your program 10000 times.\n",
    "\n",
    "Compare your results.\n",
    "\n",
    "The following two diagrams represent these experiments."
   ]
  },
  {
   "cell_type": "markdown",
   "metadata": {},
   "source": [
    "<table>\n",
    "    <tr>\n",
    "        <td><img src=\"../photon/images/photon8.jpg\" width=\"80%\"></td>\n",
    "        <td><img src=\"../photon/images/photon9.jpg\" width=\"70%\"></td>\n",
    "    </tr>\n",
    "</table>"
   ]
  },
  {
   "cell_type": "code",
   "execution_count": 12,
   "metadata": {},
   "outputs": [
    {
     "data": {
      "image/png": "[encoded data removed]",
      "text/plain": [
       "<Figure size 389.136x200.667 with 1 Axes>"
      ]
     },
     "execution_count": 12,
     "metadata": {},
     "output_type": "execute_result"
    }
   ],
   "source": [
    "# your solution is here\n",
    "\n",
    "# Experiment 1\n",
    "q1 = QuantumRegister(1)\n",
    "c1 = ClassicalRegister(1)\n",
    "qc1 = QuantumCircuit(q1, c1)\n",
    "\n",
    "qc1.x(q1[0])\n",
    "qc1.h(q1[0])\n",
    "qc1.measure(q1,c1)\n",
    "\n",
    "qc1.draw(output='mpl')"
   ]
  },
  {
   "cell_type": "code",
   "execution_count": 13,
   "metadata": {},
   "outputs": [
    {
     "name": "stdout",
     "output_type": "stream",
     "text": [
      "{'1': 5061, '0': 4939}\n"
     ]
    }
   ],
   "source": [
    "job1 = execute(qc1,Aer.get_backend('qasm_simulator'), shots=10000)\n",
    "counts1 = job1.result().get_counts(qc1)\n",
    "print(counts1)"
   ]
  },
  {
   "cell_type": "code",
   "execution_count": 14,
   "metadata": {},
   "outputs": [
    {
     "data": {
      "image/png": "[encoded data removed]",
      "text/plain": [
       "<Figure size 472.949x200.667 with 1 Axes>"
      ]
     },
     "execution_count": 14,
     "metadata": {},
     "output_type": "execute_result"
    }
   ],
   "source": [
    "# Experiment 2\n",
    "q_2 = QuantumRegister(1)\n",
    "c_2 = ClassicalRegister(1)\n",
    "qc_2 = QuantumCircuit(q_2, c_2)\n",
    "\n",
    "qc_2.x(q_2[0])\n",
    "qc_2.h(q_2[0])\n",
    "qc_2.h(q_2[0])\n",
    "qc_2.measure(q_2,c_2)\n",
    "\n",
    "qc_2.draw(output='mpl')"
   ]
  },
  {
   "cell_type": "code",
   "execution_count": 16,
   "metadata": {},
   "outputs": [
    {
     "name": "stdout",
     "output_type": "stream",
     "text": [
      "{'1': 10000}\n"
     ]
    }
   ],
   "source": [
    "job_2 = execute(qc_2,Aer.get_backend('qasm_simulator'), shots=10000)\n",
    "counts_2 = job_2.result().get_counts(qc_2)\n",
    "print(counts_2)"
   ]
  },
  {
   "cell_type": "markdown",
   "metadata": {},
   "source": [
    "<a href=\"Q20_Hadamard_Solution.ipynb#task1\">click for our solution</a>"
   ]
  }
 ],
 "metadata": {
  "kernelspec": {
   "display_name": "Python 3",
   "language": "python",
   "name": "python3"
  },
  "language_info": {
   "codemirror_mode": {
    "name": "ipython",
    "version": 3
   },
   "file_extension": ".py",
   "mimetype": "text/x-python",
   "name": "python",
   "nbconvert_exporter": "python",
   "pygments_lexer": "ipython3",
   "version": "3.11.8"
  }
 },
 "nbformat": 4,
 "nbformat_minor": 2
}
