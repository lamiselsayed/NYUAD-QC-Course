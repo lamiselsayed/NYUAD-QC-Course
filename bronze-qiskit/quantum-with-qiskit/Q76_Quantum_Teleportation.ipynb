{
 "cells": [
  {
   "cell_type": "markdown",
   "metadata": {},
   "source": [
    "<a href=\"https://qworld.net\" target=\"_blank\" align=\"left\"><img src=\"../qworld/images/header.jpg\"  align=\"left\"></a>\n",
    "$ \\renewcommand{\\bra}[1]{\\langle #1|} $\n",
    "$ \\renewcommand{\\ket}[1]{|#1\\rangle} $\n",
    "$ \\renewcommand{\\braket}[2]{\\langle #1|#2\\rangle} $\n",
    "$ \\renewcommand{\\dot}[2]{ #1 \\cdot #2} $\n",
    "$ \\renewcommand{\\biginner}[2]{\\left\\langle #1,#2\\right\\rangle} $\n",
    "$ \\renewcommand{\\mymatrix}[2]{\\left( \\begin{array}{#1} #2\\end{array} \\right)} $\n",
    "$ \\renewcommand{\\myvector}[1]{\\mymatrix{c}{#1}} $\n",
    "$ \\renewcommand{\\myrvector}[1]{\\mymatrix{r}{#1}} $\n",
    "$ \\renewcommand{\\mypar}[1]{\\left( #1 \\right)} $\n",
    "$ \\renewcommand{\\mybigpar}[1]{ \\Big( #1 \\Big)} $\n",
    "$ \\renewcommand{\\sqrttwo}{\\frac{1}{\\sqrt{2}}} $\n",
    "$ \\renewcommand{\\dsqrttwo}{\\dfrac{1}{\\sqrt{2}}} $\n",
    "$ \\renewcommand{\\onehalf}{\\frac{1}{2}} $\n",
    "$ \\renewcommand{\\donehalf}{\\dfrac{1}{2}} $\n",
    "$ \\renewcommand{\\hadamard}{ \\mymatrix{rr}{ \\sqrttwo & \\sqrttwo \\\\ \\sqrttwo & -\\sqrttwo }} $\n",
    "$ \\renewcommand{\\vzero}{\\myvector{1\\\\0}} $\n",
    "$ \\renewcommand{\\vone}{\\myvector{0\\\\1}} $\n",
    "$ \\renewcommand{\\stateplus}{\\myvector{ \\sqrttwo \\\\  \\sqrttwo } } $\n",
    "$ \\renewcommand{\\stateminus}{ \\myrvector{ \\sqrttwo \\\\ -\\sqrttwo } } $\n",
    "$ \\renewcommand{\\myarray}[2]{ \\begin{array}{#1}#2\\end{array}} $\n",
    "$ \\renewcommand{\\X}{ \\mymatrix{cc}{0 & 1 \\\\ 1 & 0}  } $\n",
    "$ \\renewcommand{\\I}{ \\mymatrix{rr}{1 & 0 \\\\ 0 & 1}  } $\n",
    "$ \\renewcommand{\\Z}{ \\mymatrix{rr}{1 & 0 \\\\ 0 & -1}  } $\n",
    "$ \\renewcommand{\\Htwo}{ \\mymatrix{rrrr}{ \\frac{1}{2} & \\frac{1}{2} & \\frac{1}{2} & \\frac{1}{2} \\\\ \\frac{1}{2} & -\\frac{1}{2} & \\frac{1}{2} & -\\frac{1}{2} \\\\ \\frac{1}{2} & \\frac{1}{2} & -\\frac{1}{2} & -\\frac{1}{2} \\\\ \\frac{1}{2} & -\\frac{1}{2} & -\\frac{1}{2} & \\frac{1}{2} } } $\n",
    "$ \\renewcommand{\\CNOT}{ \\mymatrix{cccc}{1 & 0 & 0 & 0 \\\\ 0 & 1 & 0 & 0 \\\\ 0 & 0 & 0 & 1 \\\\ 0 & 0 & 1 & 0} } $\n",
    "$ \\renewcommand{\\norm}[1]{ \\left\\lVert #1 \\right\\rVert } $\n",
    "$ \\renewcommand{\\pstate}[1]{ \\lceil #1 \\rfloor } $\n",
    "$ \\renewcommand{\\greenbit}[1] {\\mathbf{{\\color{green}#1}}} $\n",
    "$ \\renewcommand{\\bluebit}[1] {\\mathbf{{\\color{blue}#1}}} $\n",
    "$ \\renewcommand{\\redbit}[1] {\\mathbf{{\\color{red}#1}}} $\n",
    "$ \\renewcommand{\\brownbit}[1] {\\mathbf{{\\color{brown}#1}}} $\n",
    "$ \\renewcommand{\\blackbit}[1] {\\mathbf{{\\color{black}#1}}} $"
   ]
  },
  {
   "cell_type": "markdown",
   "metadata": {},
   "source": [
    "<font style=\"font-size:28px;\" align=\"left\"><b> Quantum Teleportation </b></font>\n",
    "<br>\n",
    "_prepared by Abuzer Yakaryilmaz_\n",
    "<br><br>\n",
    "[<img src=\"../qworld/images/watch_lecture.jpg\" align=\"left\">](https://youtu.be/4PYeoqALKHk)\n",
    "<br><br><br>"
   ]
  },
  {
   "cell_type": "markdown",
   "metadata": {},
   "source": [
    "<hr>\n",
    "\n",
    "_**Prepare a few blank sheets of paper**_\n",
    "- _**to draw the circuit of the following protocol step by step and**_\n",
    "- _**to solve some of tasks requiring certain calculations.**_\n",
    "\n",
    "<hr>"
   ]
  },
  {
   "cell_type": "markdown",
   "metadata": {},
   "source": [
    "Asja wants to send a qubit to Balvis by using only classical communication.\n",
    "\n",
    "Let $ \\ket{v} = \\myvector{a\\\\b} \\in \\mathbb{R}^2 $ be the quantum state.\n",
    "\n",
    "_Discussion:_ If Asja has many copies of this qubit, then she can collect the statistics based on these qubits and obtain an approximation of $ a $ and $ b $, say $ \\tilde{a} $ and $\\tilde{b}$, respectively. After this, Asja can send $ \\tilde{a} $ and $\\tilde{b}$ by using many classical bits, the number of which depends on the precision of the amplitudes. "
   ]
  },
  {
   "cell_type": "markdown",
   "metadata": {},
   "source": [
    "On the other hand, If Asja and Balvis share the entangled qubits in state \n",
    "$ \\sqrttwo\\ket{00} + \\sqrttwo\\ket{11} $ \n",
    "in advance, then it is possible for Balvis to create $ \\ket{v} $ in his qubit after receiving two bits of information from Asja. "
   ]
  },
  {
   "cell_type": "markdown",
   "metadata": {},
   "source": [
    "<h3> Protocol </h3>\n",
    "\n",
    "The protocol uses three qubits as specified below:\n",
    "\n",
    "<img src='images/quantum_teleportation_qubits.png' width=\"25%\" align=\"left\">"
   ]
  },
  {
   "cell_type": "markdown",
   "metadata": {},
   "source": [
    "Asja has two qubits and Balvis has one qubit.\n",
    "\n",
    "Asja's quantum message (key) is $ \\ket{v} = \\myvector{a\\\\b} = a\\ket{0} + b\\ket{1} $.\n",
    "\n",
    "The entanglement between Asja's second qubit and Balvis' qubit is  $ \\sqrttwo\\ket{00} + \\sqrttwo\\ket{11} $.\n",
    "\n",
    "So, the quantum state of the three qubits is\n",
    "\n",
    "$$ \\mypar{a\\ket{0} + b\\ket{1}}\\mypar{\\sqrttwo\\ket{00} + \\sqrttwo\\ket{11}} \n",
    "    = \\sqrttwo \\big( a\\ket{000} + a \\ket{011} + b\\ket{100} + b \\ket{111} \\big).  $$"
   ]
  },
  {
   "cell_type": "markdown",
   "metadata": {},
   "source": [
    "<h4> CNOT operator by Asja </h4>\n",
    "\n",
    "Asja applies CNOT gate to her qubits where $q[2]$ is the control qubit and $q[1]$ is the target qubit."
   ]
  },
  {
   "cell_type": "markdown",
   "metadata": {},
   "source": [
    "<h3>Task 1</h3>\n",
    "\n",
    "Calculate the new quantum state after this CNOT operator."
   ]
  },
  {
   "cell_type": "markdown",
   "metadata": {},
   "source": [
    "#### Solution in my notebook"
   ]
  },
  {
   "cell_type": "markdown",
   "metadata": {},
   "source": [
    "<a href=\"Q76_Quantum_Teleportation_Solutions.ipynb#task1\">click for our solution</a>"
   ]
  },
  {
   "cell_type": "markdown",
   "metadata": {},
   "source": [
    "<h3>Hadamard operator by Asja</h3>\n",
    "\n",
    "Asja applies Hadamard gate to $q[2]$."
   ]
  },
  {
   "cell_type": "markdown",
   "metadata": {},
   "source": [
    "<h3>Task 2</h3>\n",
    "\n",
    "Calculate the new quantum state after this Hadamard operator.\n",
    "\n",
    "Verify that the resulting quantum state can be written as follows:\n",
    "\n",
    "$$  \n",
    "    \\frac{1}{2} \\ket{00} \\big( a\\ket{0}+b\\ket{1} \\big) +\n",
    "    \\frac{1}{2} \\ket{01} \\big( a\\ket{1}+b\\ket{0} \\big) +\n",
    "    \\frac{1}{2} \\ket{10} \\big( a\\ket{0}-b\\ket{1} \\big) +\n",
    "    \\frac{1}{2} \\ket{11} \\big( a\\ket{1}-b\\ket{0} \\big) .\n",
    "$$"
   ]
  },
  {
   "cell_type": "markdown",
   "metadata": {},
   "source": [
    "#### Solution in my notebook"
   ]
  },
  {
   "cell_type": "markdown",
   "metadata": {},
   "source": [
    "<a href=\"Q76_Quantum_Teleportation_Solutions.ipynb#task2\">click for our solution</a>"
   ]
  },
  {
   "cell_type": "markdown",
   "metadata": {},
   "source": [
    "<h3> Measurement by Asja </h3>\n",
    "\n",
    "Asja measures her qubits. With probability $ \\frac{1}{4} $, she can observe one of the basis states.\n",
    "\n",
    "Depeding on the measurement outcomes, Balvis' qubit is in the following states:\n",
    "<ol>\n",
    "    <li> \"00\": $ \\ket{v_{00}} = a\\ket{0} + b \\ket{1} $ </li>\n",
    "    <li> \"01\": $ \\ket{v_{01}} =  a\\ket{1} + b \\ket{0} $ </li>\n",
    "    <li> \"10\": $ \\ket{v_{10}} =  a\\ket{0} - b \\ket{1} $ </li>\n",
    "    <li> \"11\": $ \\ket{v_{11}} =  a\\ket{1} - b \\ket{0} $ </li>\n",
    "</ol>"
   ]
  },
  {
   "cell_type": "markdown",
   "metadata": {},
   "source": [
    "As can be observed, the amplitudes $ a $ and $ b $ are \"transferred\" to Balvis' qubit in each case.\n",
    "\n",
    "If Asja sends the measurement outcomes, then Balvis can construct $ \\ket{v} $ exactly."
   ]
  },
  {
   "cell_type": "markdown",
   "metadata": {},
   "source": [
    "<h3>Task 3</h3>\n",
    "\n",
    "Asja sends the measurement outcomes to Balvis by using two classical bits: $ x $ and $ y $. \n",
    "\n",
    "For each $ (x,y) $ pair, determine the quantum operator(s) that Balvis can apply to obtain $ \\ket{v} = a\\ket{0}+b\\ket{1} $ exactly."
   ]
  },
  {
   "cell_type": "markdown",
   "metadata": {},
   "source": [
    "#### Solution:\n",
    "*   $ (0,0) $ --> don't apply anything\n",
    "*   $ (0,1) $ --> apply NOT (x)\n",
    "*   $ (1,0) $ --> apply Z operator\n",
    "*   $ (1,1) $ --> apply NOT (x) and Z operator"
   ]
  },
  {
   "cell_type": "markdown",
   "metadata": {},
   "source": [
    "<a href=\"Q76_Quantum_Teleportation_Solutions.ipynb#task3\">click for our solution</a>"
   ]
  },
  {
   "cell_type": "markdown",
   "metadata": {},
   "source": [
    "<h3> Task 4 </h3>\n",
    "\n",
    "Create a quantum circuit with three qubits as described at the beginning of this notebook and two classical bits.\n",
    "\n",
    "Implement the protocol given above until Asja makes the measurements (included).\n",
    "- The state of $q[2]$ can be set by the rotation with a randomly picked angle.\n",
    "- Remark that Balvis does not make the measurement.\n",
    "\n",
    "At this point, read the state vector of the circuit by using \"statevector_simulator\". \n",
    "\n",
    "_When a circuit having measurement is simulated by \"statevector_simulator\", the simulator picks one of the outcomes, and so we see one of the states after the measurement._\n",
    "\n",
    "Verify that the state of Balvis' qubit is in one of these: $ \\ket{v_{00}}$, $ \\ket{v_{01}}$, $ \\ket{v_{10}}$, and $ \\ket{v_{11}}$.\n",
    "\n",
    "Guess the measurement outcome obtained by \"statevector_simulator\"."
   ]
  },
  {
   "cell_type": "code",
   "execution_count": 8,
   "metadata": {},
   "outputs": [
    {
     "name": "stdout",
     "output_type": "stream",
     "text": [
      "Randomly Picked Angle in Degrees =  111.60000000000001  and in Radians =  1.9477874452256718\n",
      "a =  -0.368  & b =  0.93\n"
     ]
    },
    {
     "data": {
      "image/png": "[encoded data removed]",
      "text/plain": [
       "<Figure size 538.33x535.111 with 1 Axes>"
      ]
     },
     "metadata": {},
     "output_type": "display_data"
    },
    {
     "name": "stdout",
     "output_type": "stream",
     "text": [
      "The State Vector Is:\n",
      "-0.0\n",
      "0.0\n",
      "0.0\n",
      "-0.0\n",
      "-0.0\n",
      "-0.0\n",
      "-0.9297764858882515\n",
      "-0.368124552684678\n",
      "\n",
      "The Classical Outcome Is:  11\n",
      "\n",
      "The New Quantum State Is:  |11>(-0.93|0>+-0.368|1>)\n",
      "The New Quantum State Is:  |11>(-b|0>+a|1>)\n"
     ]
    }
   ],
   "source": [
    "#\n",
    "# your code is here\n",
    "#\n",
    "from qiskit import QuantumRegister, ClassicalRegister, QuantumCircuit, execute, Aer\n",
    "from random import randrange\n",
    "from math import pi, cos, sin\n",
    "\n",
    "q = QuantumRegister(3, \"q\")\n",
    "c = ClassicalRegister(3, \"c\")\n",
    "qc = QuantumCircuit(q, c)\n",
    "\n",
    "# set the quantum message\n",
    "randomNo = randrange(100)\n",
    "theta = 2 * pi * (randomNo / 100)\n",
    "print('Randomly Picked Angle in Degrees = ', randomNo * 3.6, ' and in Radians = ', theta)\n",
    "a = cos(theta)\n",
    "b = sin(theta)\n",
    "print('a = ', round(a, 3), ' & b = ', round(b, 3))\n",
    "qc.ry(2 * theta, q[2])\n",
    "\n",
    "# entanglement between q[1] and q[0]\n",
    "qc.h(q[1])\n",
    "qc.cx(q[1], q[0])\n",
    "\n",
    "# Asja applies CNOT to her qubits\n",
    "qc.cx(q[2], q[1])\n",
    "\n",
    "# Asja applies the Hadamard gate to q[2]\n",
    "qc.h(q[2])\n",
    "\n",
    "# Asja measures her qubits\n",
    "qc.measure(q[2], c[2])\n",
    "qc.measure(q[1], c[1])\n",
    "\n",
    "display(qc.draw(output = 'mpl', reverse_bits = True))\n",
    "\n",
    "# read the state vector\n",
    "job = execute(qc, Aer.get_backend('statevector_simulator'), optimization_level = 0, shots = 1)\n",
    "current_quantum_state = job.result().get_statevector(qc).data\n",
    "print(\"The State Vector Is:\")\n",
    "for i in range(len(current_quantum_state)):\n",
    "    print(current_quantum_state[i].real)\n",
    "print()\n",
    "\n",
    "classicalOutcomes = ['00', '01', '10', '11']\n",
    "\n",
    "for i in range(4):\n",
    "    if (current_quantum_state[2*i].real != 0) or (current_quantum_state[2*i+1].real != 0):\n",
    "        print('The Classical Outcome Is: ', classicalOutcomes[i])\n",
    "        classical_outcome = classicalOutcomes[i]\n",
    "        balvis_state = [ current_quantum_state[2*i].real, current_quantum_state[2*i+1].real ]\n",
    "print()\n",
    "        \n",
    "readable_quantum_state = \"|\" + classical_outcome + \">\"\n",
    "readable_quantum_state += \"(\"+ str(round(balvis_state[0], 3)) + \"|0>+\" + str(round(balvis_state[1], 3)) + \"|1>)\"\n",
    "print(\"The New Quantum State Is: \", readable_quantum_state)\n",
    "\n",
    "\n",
    "all_states = ['000','001','010','011','100','101','110','111']\n",
    "       \n",
    "balvis_state_str = \"|\" + classical_outcome + \">(\"\n",
    "for i in range(len(current_quantum_state)):\n",
    "    if abs(current_quantum_state[i].real - a) < 0.000001: \n",
    "        balvis_state_str += \"+a|\" + all_states[i][2] +\">\"\n",
    "    elif abs(current_quantum_state[i].real + a) < 0.000001:\n",
    "        balvis_state_str += \"-a|\" + all_states[i][2] + \">\"\n",
    "    elif abs(current_quantum_state[i].real - b) < 0.000001: \n",
    "        balvis_state_str += \"+b|\" + all_states[i][2] + \">\"\n",
    "    elif abs(current_quantum_state[i].real + b) < 0.000001: \n",
    "        balvis_state_str += \"-b|\" + all_states[i][2] + \">\"\n",
    "balvis_state_str += \")\"        \n",
    "print(\"The New Quantum State Is: \", balvis_state_str)"
   ]
  },
  {
   "cell_type": "markdown",
   "metadata": {},
   "source": [
    "<a href=\"Q76_Quantum_Teleportation_Solutions.ipynb#task4\">click for our solution</a>"
   ]
  },
  {
   "cell_type": "markdown",
   "metadata": {},
   "source": [
    "<h3> Task 5 </h3>\n",
    "\n",
    "Implement the protocol above by including the post-processing part done by Balvis, i.e., the measurement results by Asja are sent to Balvis and then he may apply $ X $ or $ Z $ gates depending on the measurement results.\n",
    "\n",
    "We use the classically controlled quantum operators. \n",
    "\n",
    "Since we do not make measurement on $ q[0] $, we define only 2 classical bits, each of which can also be defined separated.\n",
    "\n",
    "    q = QuantumRegister(3)\n",
    "    c2 = ClassicalRegister(1,'c2')\n",
    "    c1 = ClassicalRegister(1,'c1')\n",
    "    qc = QuantumCircuit(q,c1,c2)\n",
    "    ...\n",
    "    qc.measure(q[1],c1)\n",
    "    ...\n",
    "    qc.x(q[0]).c_if(c1,1) # x-gate is applied to q[0] if the classical bit c1 is equal to 1\n",
    "\n",
    "Read the state vector and verify that Balvis' state is $ \\myvector{a \\\\ b} $ after the post-processing."
   ]
  },
  {
   "cell_type": "code",
   "execution_count": 14,
   "metadata": {},
   "outputs": [
    {
     "name": "stdout",
     "output_type": "stream",
     "text": [
      "Randomly Picked Angle in Degrees =  180.0  and in Radians =  3.141592653589793\n",
      "a =  -1.0  & b =  0.0\n"
     ]
    },
    {
     "data": {
      "image/png": "[encoded data removed]",
      "text/plain": [
       "<Figure size 705.552x451.5 with 1 Axes>"
      ]
     },
     "metadata": {},
     "output_type": "display_data"
    },
    {
     "name": "stdout",
     "output_type": "stream",
     "text": [
      "The State Vector Is:\n",
      "0.0\n",
      "-0.0\n",
      "-1.0\n",
      "1.2246467991473532e-16\n",
      "-0.0\n",
      "-0.0\n",
      "-0.0\n",
      "-0.0\n",
      "\n",
      "The Classical Outcome Is:  01\n"
     ]
    }
   ],
   "source": [
    "#\n",
    "# your code is here\n",
    "#\n",
    "q = QuantumRegister(3, 'q')\n",
    "c2 = ClassicalRegister(1, 'c2')\n",
    "c1 = ClassicalRegister(1, 'c1')\n",
    "qc = QuantumCircuit(q, c1, c2)\n",
    "\n",
    "# set the quantum message\n",
    "randomNo = randrange(100)\n",
    "theta = 2 * pi * (randomNo / 100)\n",
    "print('Randomly Picked Angle in Degrees = ', randomNo * 3.6, ' and in Radians = ', theta)\n",
    "a = cos(theta)\n",
    "b = sin(theta)\n",
    "print('a = ', round(a, 3), ' & b = ', round(b, 3))\n",
    "qc.ry(2 * theta, q[2])\n",
    "\n",
    "# entanglement between q[1] and q[0]\n",
    "qc.h(q[1])\n",
    "qc.cx(q[1], q[0])\n",
    "\n",
    "# Asja applies CNOT to her qubits\n",
    "qc.cx(q[2], q[1])\n",
    "\n",
    "# Asja applies the Hadamard gate to q[2]\n",
    "qc.h(q[2])\n",
    "\n",
    "# Asja measures her qubits\n",
    "qc.measure(q[2], c2)\n",
    "qc.measure(q[1], c1)\n",
    "\n",
    "# post-processing done by Balvis\n",
    "qc.x(q[0]).c_if(c1, 1)  # x-gate is applied to q[0] if the classical bit c1 is equal to 1\n",
    "qc.z(q[0]).c_if(c2, 1)\n",
    "\n",
    "display(qc.draw(output = 'mpl', reverse_bits = True))\n",
    "\n",
    "# read the state vector\n",
    "job = execute(qc, Aer.get_backend('statevector_simulator'), optimization_level = 0, shots = 1)\n",
    "current_quantum_state = job.result().get_statevector(qc).data\n",
    "print(\"The State Vector Is:\")\n",
    "for i in range(len(current_quantum_state)):\n",
    "    print(current_quantum_state[i].real)\n",
    "print()\n",
    "\n",
    "classicalOutcomes = ['00', '01', '10', '11']\n",
    "for i in range(4):\n",
    "    if (current_quantum_state[2*i].real != 0) or (current_quantum_state[2*i+1].real != 0):\n",
    "        print('The Classical Outcome Is: ', classicalOutcomes[i])"
   ]
  },
  {
   "cell_type": "markdown",
   "metadata": {},
   "source": [
    "<a href=\"Q76_Quantum_Teleportation_Solutions.ipynb#task5\">click for our solution</a>"
   ]
  },
  {
   "cell_type": "markdown",
   "metadata": {},
   "source": [
    "<!--\n",
    "<h3> Task 6 (optional) </h3>\n",
    "\n",
    "Observe that Balvis can also t\n",
    "\n",
    "Create a quantum circuit with four qubits and four classical bits.\n",
    "\n",
    "Assume that Asja has the first two qubits (number 3 and 2) and Balvis has the last two qubits (number 1 and 0).\n",
    "\n",
    "Create an entanglement between qubits 2 and 1.\n",
    "\n",
    "Implement the protocol (the state of the qubit can be set by a rotation with randomly picked angle):\n",
    "- If Asja teleports a qubit, then set the state of qubit 3.\n",
    "- If Balvis teleports a qubit, then set the state of qubit 0.\n",
    "-->"
   ]
  }
 ],
 "metadata": {
  "kernelspec": {
   "display_name": "Python 3",
   "language": "python",
   "name": "python3"
  },
  "language_info": {
   "codemirror_mode": {
    "name": "ipython",
    "version": 3
   },
   "file_extension": ".py",
   "mimetype": "text/x-python",
   "name": "python",
   "nbconvert_exporter": "python",
   "pygments_lexer": "ipython3",
   "version": "3.11.8"
  }
 },
 "nbformat": 4,
 "nbformat_minor": 2
}
