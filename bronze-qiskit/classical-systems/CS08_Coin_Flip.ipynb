{
 "cells": [
  {
   "cell_type": "markdown",
   "metadata": {},
   "source": [
    "<a href=\"https://qworld.net\" target=\"_blank\" align=\"left\"><img src=\"../qworld/images/header.jpg\"  align=\"left\"></a>"
   ]
  },
  {
   "cell_type": "markdown",
   "metadata": {},
   "source": [
    "<font style=\"font-size:28px;\" align=\"left\"><b>Coin Flip: A Probabilistic Bit </b></font>\n",
    "<br>\n",
    "_prepared by Abuzer Yakaryilmaz_\n",
    "<br><br>\n",
    "[<img src=\"../qworld/images/watch_lecture.jpg\" align=\"left\">](https://youtu.be/uGKHEsVcSEs)\n",
    "<br><br><br>"
   ]
  },
  {
   "cell_type": "markdown",
   "metadata": {},
   "source": [
    "<h3> A fair coin </h3>\n",
    "\n",
    "A coin has two sides: <i>Heads</i> and <i>Tails</i>.\n",
    "\n",
    "After flipping a coin, we get either Heads or Tails. We can represent these two different cases by a single bit:\n",
    "<ul>\n",
    "    <li> 0 represents Heads </li>\n",
    "    <li> 1 represents Tails </li>\n",
    "</ul>"
   ]
  },
  {
   "cell_type": "markdown",
   "metadata": {},
   "source": [
    "<h3> Flipping a fair coin </h3>\n",
    "\n",
    "If our coin is fair, then the probabilities of getting Heads and Tails are equal:\n",
    "\n",
    "$ p= \\dfrac{1}{2} = 0.5 $.\n",
    "\n",
    "Flipping a fair coin can be represented as an operator:\n",
    "\n",
    "$ FairCoin(Heads) = \\frac{1}{2} Heads + \\frac{1}{2}Tails $ \n",
    "\n",
    "$ FairCoin(Tails) = \\frac{1}{2} Heads + \\frac{1}{2}Tails $\n",
    "\n",
    "Here is its table representation:\n",
    "\n",
    "$\n",
    "FairCoin = \\begin{array}{c|cc} \\hookleftarrow & \\mathbf{Heads} & \\mathbf{Tails} \\\\ \\hline \\mathbf{Heads} & \\dfrac{1}{2} & \\dfrac{1}{2} \\\\  \\mathbf{Tails} & \\dfrac{1}{2} & \\dfrac{1}{2}  \\end{array} \n",
    "$\n",
    "\n",
    "Here is the same table by using 0 and 1 as the states:\n",
    "\n",
    "$\n",
    "FairCoin = \\begin{array}{c|cc} \\hookleftarrow & \\mathbf{0} & \\mathbf{1} \\\\ \\hline \\mathbf{0} & \\dfrac{1}{2} & \\dfrac{1}{2} \\\\  \\mathbf{1} & \\dfrac{1}{2} & \\dfrac{1}{2}  \\end{array} \n",
    "$"
   ]
  },
  {
   "cell_type": "markdown",
   "metadata": {},
   "source": [
    "<h3> Task 1: Simulating FairCoin in Python</h3>\n",
    "\n",
    "Flip a fair coin 100 times. Calculate the total number of heads and tails, and then check the ratio of the number of heads and the number of tails.\n",
    "\n",
    "Do the same experiment 1000 times.\n",
    "\n",
    "Do the same experiment 10,000 times.\n",
    "\n",
    "Do the same experiment 100,000 times.\n",
    "\n",
    "Do your results get close to the ideal case (the numbers of heads and tails are equal)?"
   ]
  },
  {
   "cell_type": "code",
   "execution_count": 4,
   "metadata": {},
   "outputs": [
    {
     "name": "stdout",
     "output_type": "stream",
     "text": [
      "Experiment:  100\n",
      "Heads =  51 \t Tails =  49\n",
      "Ratio =  1.0408 \n",
      "\n",
      "Experiment:  1000\n",
      "Heads =  469 \t Tails =  531\n",
      "Ratio =  0.8832 \n",
      "\n",
      "Experiment:  10000\n",
      "Heads =  4956 \t Tails =  5044\n",
      "Ratio =  0.9826 \n",
      "\n",
      "Experiment:  100000\n",
      "Heads =  50215 \t Tails =  49785\n",
      "Ratio =  1.0086 \n",
      "\n"
     ]
    }
   ],
   "source": [
    "from random import randrange\n",
    "#\n",
    "# you may use method 'randrange' for this task\n",
    "# randrange(n) returns a value from {0,1,...,n-1} randomly\n",
    "#\n",
    "\n",
    "#\n",
    "# your solution is here\n",
    "\n",
    "i = 100\n",
    "while i <= 100000:\n",
    "    print('Experiment: ', i)\n",
    "    heads = tails = 0\n",
    "    for j in range(i):\n",
    "        if randrange(2)==0: \n",
    "            heads += 1\n",
    "        else: \n",
    "            tails += 1\n",
    "    ratio = round(heads/tails, 4)\n",
    "    print('Heads = ', heads, '\\t Tails = ', tails)\n",
    "    print('Ratio = ', ratio, '\\n')\n",
    "    i *= 10\n"
   ]
  },
  {
   "cell_type": "markdown",
   "metadata": {},
   "source": [
    "<a href=\"CS08_Coin_Flip_Solutions.ipynb#task1\">click for our solution</a>"
   ]
  },
  {
   "cell_type": "markdown",
   "metadata": {},
   "source": [
    "<h3> Flipping a biased coin </h3>\n",
    "\n",
    "Our coin may have a bias. \n",
    "\n",
    "For example, the probability of getting heads is greater than the probability of getting tails.\n",
    "\n",
    "Here is an example:\n",
    "\n",
    "$\n",
    "BiasedCoin = \\begin{array}{c|cc} \\hookleftarrow & \\mathbf{Heads} & \\mathbf{Tails} \\\\ \\hline \\mathbf{Heads} & 0.6 & 0.6 \\\\  \\mathbf{Tails} & 0.4 & 0.4  \\end{array}\n",
    "$\n",
    "\n",
    "By using 0 and 1 as the states:\n",
    "\n",
    "$\n",
    "BiasedCoin = \\begin{array}{c|cc} \\hookleftarrow & \\mathbf{0} & \\mathbf{1} \\\\ \\hline \\mathbf{0} & 0.6 & 0.6\\\\  \\mathbf{1} & 0.4 & 0.4 \\end{array}\n",
    "$"
   ]
  },
  {
   "cell_type": "markdown",
   "metadata": {},
   "source": [
    "<h3> Task 2: Simulating BiasedCoin in Python</h3>\n",
    "\n",
    "Flip the following biased coin 100 times. Calculate the total numbers of heads and tails, and then check the ratio of the number of heads and the number of tails.\n",
    "\n",
    "$\n",
    "BiasedCoin = \\begin{array}{c|cc} \\hookleftarrow & \\mathbf{Head} & \\mathbf{Tail} \\\\ \\hline \\mathbf{Head} & 0.6 & 0.6 \\\\  \\mathbf{Tail} & 0.4 & 0.4  \\end{array}\n",
    "$\n",
    "\n",
    "\n",
    "Do the same experiment 1000 times.\n",
    "\n",
    "Do the same experiment 10,000 times.\n",
    "\n",
    "Do the same experiment 100,000 times.\n",
    "\n",
    "Do your results get close to the ideal case $ \\mypar{ \\dfrac{ no. heads }{ no. tails } = \\dfrac{0.6}{0.4} = 1.50000000 } $?"
   ]
  },
  {
   "cell_type": "code",
   "execution_count": 27,
   "metadata": {},
   "outputs": [
    {
     "name": "stdout",
     "output_type": "stream",
     "text": [
      "Experiment:  100\n",
      "Heads =  55 \t Tails =  45\n",
      "Ratio =  1.2222 \n",
      "\n",
      "Experiment:  1000\n",
      "Heads =  620 \t Tails =  380\n",
      "Ratio =  1.6316 \n",
      "\n",
      "Experiment:  10000\n",
      "Heads =  6077 \t Tails =  3923\n",
      "Ratio =  1.5491 \n",
      "\n",
      "Experiment:  100000\n",
      "Heads =  59848 \t Tails =  40152\n",
      "Ratio =  1.4905 \n",
      "\n"
     ]
    }
   ],
   "source": [
    "#\n",
    "# you may use method 'randrange' for this task\n",
    "# randrange(n) returns a value from {0,1,...,n-1} randomly\n",
    "#\n",
    "\n",
    "#\n",
    "# your solution is here\n",
    "i = 100\n",
    "while i <= 100000:\n",
    "    print('Experiment: ', i)\n",
    "    heads = tails = 0\n",
    "    for j in range(i):\n",
    "        if randrange(100) < 60: \n",
    "            heads += 1\n",
    "        else: \n",
    "            tails += 1\n",
    "    ratio = round(heads/tails, 4)\n",
    "    print('Heads = ', heads, '\\t Tails = ', tails)\n",
    "    print('Ratio = ', ratio, '\\n')\n",
    "    i *= 10"
   ]
  },
  {
   "cell_type": "markdown",
   "metadata": {},
   "source": [
    "<a href=\"CS08_Coin_Flip_Solutions.ipynb#task2\">click for our solution</a>"
   ]
  },
  {
   "cell_type": "markdown",
   "metadata": {},
   "source": [
    "---\n",
    "\n",
    "<h3> Extra: Programming a biased coin </h3>\n",
    "\n",
    "We use a simple method to create a biased coin.\n",
    "\n",
    "First, we pick a range for the precision of probabilities, say $ N $, as $ N = 11, 101, 1001, or , 10^k+1 $ for some $ k > 3 $.\n",
    "\n",
    "Second, we pick the bias, say $ B $, as an integer in $ \\{0,\\ldots,N\\} $.\n",
    "\n",
    "We fix $ N $ and $ B $.\n",
    "\n",
    "Third, we pick a random integer in $ \\{0,1,\\ldots,N-1\\} $:\n",
    "<ul>\n",
    "    <li> if it is less than $ B $, we output \"Heads\" and </li>\n",
    "    <li> if it is equal to or greater than $ B $, we output \"Tails\" </li>\n",
    "</ul>\n",
    "    \n",
    "In this way, we have a biased coin \"landing on\" heads with probability $ \\frac{B}{N} $ including 0 and 1.\n",
    "\n",
    "Remark that we pick $ N = 10^k+1 $ as an odd number. In this way, the coin cannot be fair as long as $ B $ is an integer. Because, the half of an odd integer is not an integer."
   ]
  },
  {
   "cell_type": "markdown",
   "metadata": {},
   "source": [
    "<h3> Task 3 </h3>\n",
    "\n",
    "Write a function to implement the described biased coin,\n",
    "\n",
    "The inputs are integers $N>0$ and $ B \\in \\{0,\\ldots,N\\} $.\n",
    "\n",
    "The output is either \"Heads\" or \"Tails\"."
   ]
  },
  {
   "cell_type": "code",
   "execution_count": 28,
   "metadata": {},
   "outputs": [],
   "source": [
    "def biased_coin(N,B):\n",
    "    from random import randrange\n",
    "    \n",
    "    # your solution is here\n",
    "    if randrange(N) < B:\n",
    "        return 'Heads'\n",
    "    else:\n",
    "        return 'Tails'"
   ]
  },
  {
   "cell_type": "markdown",
   "metadata": {},
   "source": [
    "<a href=\"CS08_Coin_Flip_Solutions.ipynb#task3\">click for our solution</a>"
   ]
  },
  {
   "cell_type": "markdown",
   "metadata": {},
   "source": [
    "<h3> Task 4</h3>\n",
    "\n",
    "We use the biased coin described in Task 3. \n",
    "\n",
    "(You may use the function given <a href=\"CS08_Coin_Flip_Solutions.ipynb#task3\">in the solution</a>.)\n",
    "\n",
    "We pick $ N $ as 101.\n",
    "\n",
    "Our task is to determine the value of $ B $ experimentially without looking its value directly.\n",
    "\n",
    "Flip the (same) biased coin 500 times, collect the statistics, and then guess the bias.\n",
    "\n",
    "Compare your guess with the actual bias by calculating the relative error in percentage (the absolute value of the difference divided by the real bias)."
   ]
  },
  {
   "cell_type": "code",
   "execution_count": 29,
   "metadata": {},
   "outputs": [
    {
     "name": "stdout",
     "output_type": "stream",
     "text": [
      "Actual B:  71\n",
      "Guessing B:  71.91199999999999\n",
      "Percentage of Error:  1.285 %\n"
     ]
    }
   ],
   "source": [
    "from random import randrange\n",
    "N = 101\n",
    "B = randrange(N+1)\n",
    "\n",
    "# your solution is here\n",
    "heads = tails = 0\n",
    "\n",
    "for i in range(500):\n",
    "    if biased_coin(N, B) == 'Heads':\n",
    "        heads += 1\n",
    "    else:\n",
    "        tails += 1\n",
    "\n",
    "probability_heads = heads/(heads + tails)\n",
    "B_Guess = probability_heads * N\n",
    "\n",
    "print(\"Actual B: \", B)\n",
    "print(\"Guessing B: \", B_Guess)\n",
    "print('Percentage of Error: ', round((abs(B_Guess - B) / B * 100), 3), '%')"
   ]
  },
  {
   "cell_type": "markdown",
   "metadata": {},
   "source": [
    "<a href=\"CS08_Coin_Flip_Solutions.ipynb#task4\">click for our solution</a>"
   ]
  }
 ],
 "metadata": {
  "kernelspec": {
   "display_name": "Python 3",
   "language": "python",
   "name": "python3"
  },
  "language_info": {
   "codemirror_mode": {
    "name": "ipython",
    "version": 3
   },
   "file_extension": ".py",
   "mimetype": "text/x-python",
   "name": "python",
   "nbconvert_exporter": "python",
   "pygments_lexer": "ipython3",
   "version": "3.11.8"
  }
 },
 "nbformat": 4,
 "nbformat_minor": 2
}
